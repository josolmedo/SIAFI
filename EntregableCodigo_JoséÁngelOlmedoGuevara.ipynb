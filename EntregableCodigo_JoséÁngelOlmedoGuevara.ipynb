{
  "nbformat": 4,
  "nbformat_minor": 0,
  "metadata": {
    "colab": {
      "provenance": []
    },
    "kernelspec": {
      "name": "python3",
      "display_name": "Python 3"
    },
    "language_info": {
      "name": "python"
    }
  },
  "cells": [
    {
      "cell_type": "code",
      "execution_count": 5,
      "metadata": {
        "colab": {
          "base_uri": "https://localhost:8080/"
        },
        "id": "6zzR7TBcrtNU",
        "outputId": "bc2cc92a-96a0-47aa-df4f-9ed5fffc8f1a"
      },
      "outputs": [
        {
          "output_type": "stream",
          "name": "stdout",
          "text": [
            "[(0, 0), (0, 1), (1, 1)]\n"
          ]
        }
      ],
      "source": [
        "import heapq #Importamos biblioteca para manejar colas (estructura de dato)\n",
        "\n",
        "def a_estrella_busqueda(grafo, inicio, destino):\n",
        "  '''Función que permite realizar una búsqueda dentro de un grafo  dado un\n",
        "  nodo de inicio y uno de destino empleando el algoritmo A*'''\n",
        "  no_explorado = []  # Creamos una lista de los nodos que aún no han sido explorados\n",
        "  explorados = set()  # Creamos un conjunto de de los nodos ya visitados\n",
        "  camino = {}  # Diccionario que nos dirá los nodos que recorrimos\n",
        "\n",
        "    # Iniciando el recorrio con el primer nodo\n",
        "  heapq.heappush(no_explorado, (0, inicio)) #Agregar un nodo a la cola, la tupla representa '0' el costo de inicio y 'start' el nodo de inicio.\n",
        "  camino[inicio] = None #El diccionario en un inicio no tendrá un camino recorrido por lo que lo pondremos vacío con el nodo de inicio.\n",
        "  distancia = {nodo: float('inf') for nodo in grafo}\n",
        "  '''Generamos un diccionario en donde todas las claves sean todos los nodos existentes, incializamos todos\n",
        "  los valores en infinito, posteriormente lo modificaremos dependiendo de las distancias de cada nodo.'''\n",
        "\n",
        "  distancia[inicio] = 0 #La distancia del nodo de inicio será cero.\n",
        "\n",
        "  while no_explorado: #Ciclo para recorrer los nodos sin explorar\n",
        "      costo_actual, nodo_actual = heapq.heappop(no_explorado)\n",
        "      '''De mi estructura de datos, extraemos el primer nodo no explorado,\n",
        "      extraemos el coste actual y cual es ese nodo'''\n",
        "\n",
        "      if nodo_actual == destino: #Si el nodo actual es el nodo al que queremos llegar\n",
        "          return formar_camino(camino, inicio, destino) #Reconstruimos el camino FIN DEL CICLO\n",
        "\n",
        "      explorados.add(nodo_actual) #Agregamos al conjunto de nodos explorados al nodo actual\n",
        "\n",
        "      for nodo_vecino, coste in grafo[nodo_actual].items(): #Ciclo para iterar en cada uno de los nodos vecinos y su coste en el grafo\n",
        "          if nodo_vecino in explorados: #Si el nodo vecino se encuentra en la lista de nodos  ya explorados\n",
        "              continue #Decidimos continuar\n",
        "\n",
        "          distancia_tentativa = distancia[nodo_actual] + coste #Calculamos la distancia acumulada desde el nodo de inicio hasta el nodo actual.\n",
        "\n",
        "          if distancia_tentativa < distancia[nodo_vecino]:\n",
        "            '''Verifica si la distancia tentativa es menor que la distancia acumulada desde el nodo de inicio hasta el nodo vecino'''\n",
        "            distancia[nodo_vecino] = distancia_tentativa\n",
        "            '''Si la distancia tentativa es menor, actualiza la distancia acumulada conocida para el vecino'''\n",
        "            funcion_a_estrella = distancia_tentativa + heuristica(nodo_vecino, destino)\n",
        "            '''Obtenemos f(x) para sumando la distancia acumulada tentativa y una heurística que estima la distancia restante hasta el destino'''\n",
        "            heapq.heappush(no_explorado, (funcion_a_estrella, nodo_vecino))\n",
        "            '''Agrega el otro vecino que aún no ha sido explorado a la cola (lista) con la nuevo coste calculado (función_a_estrella)'''\n",
        "            camino[nodo_vecino] = nodo_actual #Actualizamos el camino recorrido dado el nodo actual\n",
        "\n",
        "  return None  # Si nada de lo anterior funciona, significa que no se encontró ruta\n",
        "\n",
        "def formar_camino(camino, nodo_inicial, destino): #Función para devolver el camino de los nodos que visitamos para llegar al destino.\n",
        "  '''Toma como argumentos el diccionario de los nodos recorridos, el nodo de inicio y el nodo destino'''\n",
        "  nodo_actual = destino #Inicializamos el nodo actual como el nodo destino (ya llegamos al destino)\n",
        "  ruta = [] #Lista vacía que almacenará los nodos que forman el camino.\n",
        "\n",
        "  while nodo_actual is not None:  #Ciclo que iterará hasta que el nodo actual este vacío\n",
        "    ruta.insert(0, nodo_actual) #Insertamos en la primera posición de la lista el nodo actual.\n",
        "    nodo_actual = camino[nodo_actual]\n",
        "    ''' Actualiza el nodo actual con el valor almacenado en el diccionario 'camino' para el nodo actual y así recorreremos los nodos visitados'''\n",
        "\n",
        "  return ruta #Regresamos la ruta\n",
        "\n",
        "def heuristica(nodo, destino):\n",
        "  #La heurística en este caso será la distancia auclidana entre las posiciones de ambos nodos.\n",
        "  return abs(nodo[0] - destino[0]) + abs(nodo[1] - destino [1])\n",
        "\n",
        "# Ejemplo de uso\n",
        "grafo = { #Este grafo es un diccionario en donde cada clave es el grafo y los valores son los los nodos vecinos con sus respectivos pesos\n",
        "    (0, 0): {(0, 1): 1, (1, 0): 2},\n",
        "    (0, 1): {(0, 0): 1, (1, 1): 1},\n",
        "    (1, 0): {(0, 0): 1, (1, 1): 1},\n",
        "    (1, 1): {(0, 1): 1, (1, 0): 1}\n",
        "}\n",
        "\n",
        "inicio = (0, 0) #El nodo de inicio será el (0,0)\n",
        "destino = (1, 1) #El nodo de destino será el (1,1)\n",
        "\n",
        "prueba = a_estrella_busqueda(grafo, inicio, destino) #Probamos el algoritmo\n",
        "print(prueba) #Imprimimos la prueba\n"
      ]
    },
    {
      "cell_type": "code",
      "source": [
        "def dfs(grafo, inicio, destino): #Función para implementar el algoritmo DFS\n",
        "  pila = [(inicio, [inicio])]  # Pila de nodos por visitar y camino seguido\n",
        "  '''Haremos uso de una estructura de datos conocida como pila, recibe tuplas,\n",
        "  el primer elemento contendra un nodo y el segundo será el camino hacia ese nodo. '''\n",
        "  visitados = set()  # Conjunto de nodos visitados, no se pueded modificar.\n",
        "\n",
        "  while pila: #Bucle para iterar mientras haya nodos en la pila.\n",
        "    (nodo_actual, camino) = pila.pop() #Desapilamos el nodo actual y el camino hasta a ese nodo\n",
        "\n",
        "    if nodo_actual in visitados: #Si ese nodo ya ha sido visitado\n",
        "      continue #Saltamos a la siguiente iteración\n",
        "\n",
        "    visitados.add(nodo_actual) #Sino, añadimos al conjunto de nodos visitados el nodo actual\n",
        "\n",
        "    if nodo_actual == destino: #Si el nodo actual es el nodo objetivo al que queremos llegar\n",
        "      return camino #Regresaremos el camino, es decir, todos los nodos por los que pasamos (claves del diccionario)\n",
        "\n",
        "    '''Aquí comienza la exploración de mis nodos vecinos'''\n",
        "    for nodo_vecino in grafo[nodo_actual]: #Para cada nodo vecino (valor) de mi grafo en el nodo actual\n",
        "      '''Ciclo para recorrer mis nodos vecinos'''\n",
        "      pila.append((nodo_vecino, camino + [nodo_vecino]))\n",
        "      #Añadiremos a la pila, el nodo vecino y camino para llegar a él desde mi nodo actual\n",
        "\n",
        "  return None  #Sino hay alguna ruta no devolveremos nada.\n",
        "\n",
        "'''El grafo será un diccionario en donde las claves son el nodo y los valores los nodos vecinos'''\n",
        "grafo = {\n",
        "    'A': ['B', 'C'],\n",
        "    'B': ['A', 'D', 'E'],\n",
        "    'C': ['A', 'F', 'G'],\n",
        "    'D': ['B'],\n",
        "    'E': ['B', 'H'],\n",
        "    'F': ['C', 'I', 'J'],\n",
        "    'G': ['C'],\n",
        "    'H': ['E'],\n",
        "    'J': ['K']\n",
        "}\n",
        "\n",
        "nodo_de_inicio = 'A' #Nodo de inicio presente\n",
        "nodo_objetivo = 'K' #Nodo objetivo o final\n",
        "\n",
        "resultado = dfs(grafo, nodo_de_inicio, nodo_objetivo) #Probamos el algoritmo\n",
        "print(resultado) #Mostramos el resultado\n"
      ],
      "metadata": {
        "id": "AC_ihfevr8mr",
        "outputId": "a9f6ece8-7fc4-4d74-9b59-8de66077ca51",
        "colab": {
          "base_uri": "https://localhost:8080/"
        }
      },
      "execution_count": 6,
      "outputs": [
        {
          "output_type": "stream",
          "name": "stdout",
          "text": [
            "['A', 'C', 'F', 'J', 'K']\n"
          ]
        }
      ]
    }
  ]
}